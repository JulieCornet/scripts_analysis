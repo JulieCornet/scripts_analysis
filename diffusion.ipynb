{
 "cells": [
  {
   "cell_type": "code",
   "execution_count": 1,
   "metadata": {},
   "outputs": [],
   "source": [
    "%matplotlib nbagg\n",
    "%matplotlib inline\n",
    "import MDAnalysis as mda\n",
    "import MDAnalysis.analysis.leaflet\n",
    "import matplotlib\n",
    "import numpy as np\n",
    "from mpl_toolkits.mplot3d import Axes3D\n",
    "import matplotlib.pyplot as plt\n",
    "import nglview as nv\n",
    "import copy\n",
    "import warnings\n",
    "warnings.filterwarnings('ignore')"
   ]
  },
  {
   "cell_type": "markdown",
   "metadata": {},
   "source": [
    "# name and files for the simulation studied\n",
    "\n",
    "name = '_DPPC_DIPC_chol_352_5GM1'\n",
    "\n",
    "path = '/home/julie/analysis/bilayers/3-5-2/DPPC_DIPC_chol_GM1_5/'\n",
    "\n",
    "path2 = '/home/julie/analysis/bilayers/3-5-2/DPPC_DIPC_chol_GM1_5/dynamics/'\n",
    "\n",
    "fgro = 'run_DPPC_DIPC_CHOL_GM1_5_43nm_10ms_mb_fixed_t1_ref9999ns.gro'\n",
    "fxtc = 'run_DPPC_DIPC_CHOL_GM1_5_43nm_10ms_mb_fixed_t1.xtc'"
   ]
  },
  {
   "cell_type": "code",
   "execution_count": 2,
   "metadata": {},
   "outputs": [],
   "source": [
    "# name and files for the simulation studied\n",
    "\n",
    "name = '_DPPC_DIPC_chol'\n",
    "\n",
    "path = '/home/julie/analysis/bilayers/3-5-2/DPPC_DIPC_chol/'\n",
    "\n",
    "path2 = '/home/julie/analysis/bilayers/3-5-2/DPPC_DIPC_chol/dynamics/'\n",
    "\n",
    "fgro = 'run_DPPC_DIPC_CHOL_43nm_352_mb_fixed_t1_ref9999ns.gro'\n",
    "fxtc = 'run_DPPC_DIPC_CHOL_43nm_352_mb_fixed_t1.xtc'"
   ]
  },
  {
   "cell_type": "code",
   "execution_count": 3,
   "metadata": {},
   "outputs": [],
   "source": [
    "# load gro and xtc files\n",
    "u = mda.Universe( path+fgro, path+fxtc)"
   ]
  },
  {
   "cell_type": "code",
   "execution_count": 43,
   "metadata": {},
   "outputs": [],
   "source": [
    "sel = u.select_atoms(\"all and resname DPPC\")\n",
    "#u.atoms[9400:9401].residues"
   ]
  },
  {
   "cell_type": "code",
   "execution_count": 44,
   "metadata": {},
   "outputs": [
    {
     "data": {
      "application/vnd.jupyter.widget-view+json": {
       "model_id": "1a3bede30653409483dc8dc89467af43",
       "version_major": 2,
       "version_minor": 0
      },
      "text/plain": [
       "A Jupyter Widget"
      ]
     },
     "metadata": {},
     "output_type": "display_data"
    }
   ],
   "source": [
    "# visualize the bilayer and choose the frame to study\n",
    "\n",
    "v= nv.show_mdanalysis(sel)\n",
    "v.add_spacefill(sel, scale=2.0)\n",
    "v"
   ]
  },
  {
   "cell_type": "markdown",
   "metadata": {},
   "source": [
    "# Diffusion"
   ]
  },
  {
   "cell_type": "code",
   "execution_count": 48,
   "metadata": {},
   "outputs": [
    {
     "name": "stdout",
     "output_type": "stream",
     "text": [
      "[array([[277.40002 , 167.19    ,  73.26    ],\n",
      "       [247.90001 , 266.30002 ,  75.19    ],\n",
      "       [280.00003 , 245.6     ,  73.54001 ],\n",
      "       ...,\n",
      "       [136.04001 , 133.24    ,  33.      ],\n",
      "       [360.65002 ,  38.520004,  37.61    ],\n",
      "       [338.44    , 143.3     ,  32.15    ]], dtype=float32), array([[302.27002 ,  59.610004,  73.97    ],\n",
      "       [ 24.460001, 308.72003 ,  79.670006],\n",
      "       [237.78001 , 300.47    ,  64.01    ],\n",
      "       ...,\n",
      "       [297.53003 , 345.97    ,  33.83    ],\n",
      "       [332.38004 , 352.37003 ,  27.470001],\n",
      "       [151.09001 ,  40.620003,  34.24    ]], dtype=float32), array([[347.37003 , 309.61002 ,  66.380005],\n",
      "       [ 13.010001, 255.19    ,  65.62    ],\n",
      "       [279.34003 , 367.53003 ,  50.270004],\n",
      "       ...,\n",
      "       [261.49002 , 207.72002 ,  24.870003],\n",
      "       [ 88.66    ,   3.79    ,  32.46    ],\n",
      "       [ 92.48    ,  25.960003,  35.280003]], dtype=float32), array([[ 67.090004, 320.77    ,  63.020004],\n",
      "       [ 92.64001 , 280.22    ,  59.690002],\n",
      "       [191.09001 , 193.62001 ,  51.24    ],\n",
      "       ...,\n",
      "       [ 57.99    , 324.09    ,  22.59    ],\n",
      "       [ 74.86001 , 175.88    ,  31.260002],\n",
      "       [ 21.58    , 273.12003 ,  19.400002]], dtype=float32), array([[250.42001 , 246.19002 ,  74.23    ],\n",
      "       [ 97.61001 , 370.22003 ,  57.08    ],\n",
      "       [242.44002 , 197.76001 ,  71.840004],\n",
      "       ...,\n",
      "       [191.02002 , 198.43001 ,  39.56    ],\n",
      "       [233.09003 , 329.62003 ,  29.970001],\n",
      "       [380.88    , 246.40001 ,  31.37    ]], dtype=float32), array([[192.66    , 161.1     ,  55.200005],\n",
      "       [263.99002 , 184.69002 ,  69.78    ],\n",
      "       [229.45001 , 225.07002 ,  64.2     ],\n",
      "       ...,\n",
      "       [248.69002 , 170.65001 ,  26.900002],\n",
      "       [ 45.440002, 196.45001 ,  26.77    ],\n",
      "       [256.66    , 194.70001 ,  34.04    ]], dtype=float32), array([[ 94.71001 , 143.25    ,  78.29001 ],\n",
      "       [ 55.070004, 147.61    ,  74.23    ],\n",
      "       [188.45001 , 127.59001 ,  64.83    ],\n",
      "       ...,\n",
      "       [233.71    , 142.63    ,  29.29    ],\n",
      "       [320.9     ,  36.13    ,  10.810001],\n",
      "       [210.38    , 322.88    ,  24.920002]], dtype=float32), array([[174.68001 , 160.69    ,  69.240005],\n",
      "       [291.91003 , 317.62    ,  52.410004],\n",
      "       [300.09    , 262.59    ,  53.730003],\n",
      "       ...,\n",
      "       [301.64    , 340.32    ,  20.340002],\n",
      "       [ 13.240002, 106.19    ,  26.970001],\n",
      "       [302.93002 , 116.270004,  24.43    ]], dtype=float32), array([[316.04    , 256.45    ,  49.810005],\n",
      "       [ 99.16    , 330.07    ,  52.68    ],\n",
      "       [ 87.47001 , 276.97    ,  58.300003],\n",
      "       ...,\n",
      "       [ 55.410004,  73.53    ,  23.06    ],\n",
      "       [ 97.83    ,  70.22    ,  16.67    ],\n",
      "       [309.39    , 381.26004 ,  24.910002]], dtype=float32), array([[302.63    , 389.71002 ,  54.2     ],\n",
      "       [355.88    ,  87.490005,  45.750004],\n",
      "       [ 62.710003, 332.79004 ,  49.020004],\n",
      "       ...,\n",
      "       [397.94003 , 282.15002 ,  15.75    ],\n",
      "       [373.7     , 286.89    ,  15.550001],\n",
      "       [170.3     , 163.84001 ,  22.43    ]], dtype=float32)]\n"
     ]
    }
   ],
   "source": [
    "# boucle pour suivre un lipide pendant la trajectoire pour calculer le MSD et le coeff de diffusion\n",
    "tmes = 1000\n",
    "nbr = 22\n",
    "\n",
    "traj = []\n",
    "x = []\n",
    "y = []\n",
    "\n",
    "for ts in u.trajectory:\n",
    "     if (ts.frame%tmes == 0):\n",
    "            #print(ts.frame)\n",
    "            str_sel = \"name PO4 and resname DIPC\"\n",
    "            p = u.select_atoms(str_sel).positions\n",
    "            traj.append(p)\n",
    "            \n",
    "print(traj)"
   ]
  },
  {
   "cell_type": "code",
   "execution_count": 49,
   "metadata": {},
   "outputs": [
    {
     "name": "stdout",
     "output_type": "stream",
     "text": [
      "(10, 3190, 3)\n"
     ]
    }
   ],
   "source": [
    "traj2 = np.array(traj)\n",
    "nbr=22 # indice du lipide que l'on suit\n",
    "print(np.shape(traj2)) # nb de frames - indice des lipides - coordonnées"
   ]
  },
  {
   "cell_type": "code",
   "execution_count": 50,
   "metadata": {},
   "outputs": [
    {
     "name": "stdout",
     "output_type": "stream",
     "text": [
      "10\n"
     ]
    }
   ],
   "source": [
    "print(len(traj2))"
   ]
  },
  {
   "cell_type": "code",
   "execution_count": 51,
   "metadata": {},
   "outputs": [
    {
     "data": {
      "text/plain": [
       "[<matplotlib.lines.Line2D at 0x7f2b917fe400>]"
      ]
     },
     "execution_count": 51,
     "metadata": {},
     "output_type": "execute_result"
    },
    {
     "data": {
      "image/png": "[encoded data removed]",
      "text/plain": [
       "<Figure size 432x288 with 1 Axes>"
      ]
     },
     "metadata": {},
     "output_type": "display_data"
    }
   ],
   "source": [
    "x=traj2[:,nbr,0]\n",
    "y=traj2[:,nbr,1]\n",
    "plt.plot(x,y)"
   ]
  },
  {
   "cell_type": "code",
   "execution_count": 65,
   "metadata": {},
   "outputs": [],
   "source": [
    "L = 430\n",
    "\n",
    "x2 = np.arange(len(x))\n",
    "y2 = np.arange(len(x))\n",
    "x2[0] = x[0]\n",
    "y2[0] = y[0]\n",
    "\n",
    "for i in range(1,len(x)):\n",
    "    if (x[i]-x[i-1])<=L/2 :\n",
    "        x2[i] = x[i]+L\n",
    "    else:\n",
    "        x2[i] = x[i]\n",
    "    \n",
    "    if (y[i]-y[i-1])<=L/2 :\n",
    "        y2[i] = y[i]+L\n",
    "    else:\n",
    "        y2[i] = y[i]"
   ]
  },
  {
   "cell_type": "code",
   "execution_count": 66,
   "metadata": {},
   "outputs": [
    {
     "name": "stdout",
     "output_type": "stream",
     "text": [
      "[243 591 473 635 688 691 750 738 511 661]\n",
      "[269 743 693 601 639 653 549 657 798 627]\n"
     ]
    },
    {
     "data": {
      "text/plain": [
       "[<matplotlib.lines.Line2D at 0x7f2b9181ea90>]"
      ]
     },
     "execution_count": 66,
     "metadata": {},
     "output_type": "execute_result"
    },
    {
     "data": {
      "image/png": "[encoded data removed]",
      "text/plain": [
       "<Figure size 432x288 with 1 Axes>"
      ]
     },
     "metadata": {},
     "output_type": "display_data"
    }
   ],
   "source": [
    "print(x2)\n",
    "print(y2)\n",
    "plt.plot(x2,y2)"
   ]
  },
  {
   "cell_type": "code",
   "execution_count": null,
   "metadata": {},
   "outputs": [],
   "source": []
  }
 ],
 "metadata": {
  "kernelspec": {
   "display_name": "Python 2",
   "language": "python",
   "name": "python2"
  },
  "language_info": {
   "codemirror_mode": {
    "name": "ipython",
    "version": 3
   },
   "file_extension": ".py",
   "mimetype": "text/x-python",
   "name": "python",
   "nbconvert_exporter": "python",
   "pygments_lexer": "ipython3",
   "version": "3.5.2"
  }
 },
 "nbformat": 4,
 "nbformat_minor": 2
}
